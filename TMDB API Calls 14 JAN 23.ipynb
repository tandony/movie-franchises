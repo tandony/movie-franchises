{
 "cells": [
  {
   "cell_type": "code",
   "execution_count": 1,
   "id": "2bd434c5",
   "metadata": {},
   "outputs": [],
   "source": [
    "# import all the things\n",
    "# API Key: 46b582e264cd589807d0c7d4fef9e732\n",
    "# url: https://api.themoviedb.org/3\n",
    "\n",
    "import json\n",
    "import csv\n",
    "import pandas as pd\n",
    "import requests\n",
    "import tmdbsimple as tmdb\n",
    "import timeit\n",
    "import numpy as np\n",
    "\n",
    "tmdb.API_KEY = '46b582e264cd589807d0c7d4fef9e732'\n",
    "API_KEY = '46b582e264cd589807d0c7d4fef9e732'\n",
    "tmdb_url = 'https://api.themoviedb.org/3'"
   ]
  },
  {
   "cell_type": "code",
   "execution_count": 2,
   "id": "925c7380",
   "metadata": {},
   "outputs": [
    {
     "data": {
      "text/plain": [
       "200"
      ]
     },
     "execution_count": 2,
     "metadata": {},
     "output_type": "execute_result"
    }
   ],
   "source": [
    "# sanity check: Looking for a '200' status code to return\n",
    "\n",
    "tmdb_request = requests.get('https://api.themoviedb.org/3/movie/76341?api_key={}'.format(API_KEY))\n",
    "tmdb_request.status_code"
   ]
  },
  {
   "cell_type": "code",
   "execution_count": 3,
   "id": "9b1c2839",
   "metadata": {},
   "outputs": [
    {
     "data": {
      "text/plain": [
       "<Response [200]>"
      ]
     },
     "execution_count": 3,
     "metadata": {},
     "output_type": "execute_result"
    }
   ],
   "source": [
    "# obtain the daily file export of collections\n",
    "# this returns a status.\n",
    "# copy and paste the link into a browser and a download of the .gz file will begin.\n",
    "# Open with 7-zip console and extract\n",
    "\n",
    "requests.get('https://files.tmdb.org/p/exports/collection_ids_01_13_2023.json.gz')"
   ]
  },
  {
   "cell_type": "code",
   "execution_count": 4,
   "id": "8d50b1ca",
   "metadata": {},
   "outputs": [],
   "source": [
    "# bring in the json file\n",
    "\n",
    "collection_ids = pd.read_json(\"C:/Users/tando/OneDrive/General Assembly/Capstone/JSON Files/collection_ids_01_13_2023.json\", lines=True)"
   ]
  },
  {
   "cell_type": "code",
   "execution_count": 5,
   "id": "086060cc",
   "metadata": {},
   "outputs": [
    {
     "data": {
      "text/html": [
       "<div>\n",
       "<style scoped>\n",
       "    .dataframe tbody tr th:only-of-type {\n",
       "        vertical-align: middle;\n",
       "    }\n",
       "\n",
       "    .dataframe tbody tr th {\n",
       "        vertical-align: top;\n",
       "    }\n",
       "\n",
       "    .dataframe thead th {\n",
       "        text-align: right;\n",
       "    }\n",
       "</style>\n",
       "<table border=\"1\" class=\"dataframe\">\n",
       "  <thead>\n",
       "    <tr style=\"text-align: right;\">\n",
       "      <th></th>\n",
       "      <th>id</th>\n",
       "      <th>name</th>\n",
       "    </tr>\n",
       "  </thead>\n",
       "  <tbody>\n",
       "    <tr>\n",
       "      <th>0</th>\n",
       "      <td>10</td>\n",
       "      <td>Star Wars Collection</td>\n",
       "    </tr>\n",
       "    <tr>\n",
       "      <th>1</th>\n",
       "      <td>84</td>\n",
       "      <td>Indiana Jones Collection</td>\n",
       "    </tr>\n",
       "    <tr>\n",
       "      <th>2</th>\n",
       "      <td>119</td>\n",
       "      <td>The Lord of the Rings Collection</td>\n",
       "    </tr>\n",
       "    <tr>\n",
       "      <th>3</th>\n",
       "      <td>131</td>\n",
       "      <td>Trois Couleurs Collection</td>\n",
       "    </tr>\n",
       "    <tr>\n",
       "      <th>4</th>\n",
       "      <td>151</td>\n",
       "      <td>Star Trek: The Original Series Collection</td>\n",
       "    </tr>\n",
       "    <tr>\n",
       "      <th>...</th>\n",
       "      <td>...</td>\n",
       "      <td>...</td>\n",
       "    </tr>\n",
       "    <tr>\n",
       "      <th>5755</th>\n",
       "      <td>1073118</td>\n",
       "      <td>Sordid Lives Collection</td>\n",
       "    </tr>\n",
       "    <tr>\n",
       "      <th>5756</th>\n",
       "      <td>1073188</td>\n",
       "      <td>Anal Models Collection</td>\n",
       "    </tr>\n",
       "    <tr>\n",
       "      <th>5757</th>\n",
       "      <td>1073243</td>\n",
       "      <td>First Anal Collection</td>\n",
       "    </tr>\n",
       "    <tr>\n",
       "      <th>5758</th>\n",
       "      <td>1073290</td>\n",
       "      <td>Rascal Does Not Dream of Collection</td>\n",
       "    </tr>\n",
       "    <tr>\n",
       "      <th>5759</th>\n",
       "      <td>1073293</td>\n",
       "      <td>Daicon Opening Animation Collection</td>\n",
       "    </tr>\n",
       "  </tbody>\n",
       "</table>\n",
       "<p>5760 rows × 2 columns</p>\n",
       "</div>"
      ],
      "text/plain": [
       "           id                                       name\n",
       "0          10                       Star Wars Collection\n",
       "1          84                   Indiana Jones Collection\n",
       "2         119           The Lord of the Rings Collection\n",
       "3         131                  Trois Couleurs Collection\n",
       "4         151  Star Trek: The Original Series Collection\n",
       "...       ...                                        ...\n",
       "5755  1073118                    Sordid Lives Collection\n",
       "5756  1073188                     Anal Models Collection\n",
       "5757  1073243                      First Anal Collection\n",
       "5758  1073290        Rascal Does Not Dream of Collection\n",
       "5759  1073293        Daicon Opening Animation Collection\n",
       "\n",
       "[5760 rows x 2 columns]"
      ]
     },
     "execution_count": 5,
     "metadata": {},
     "output_type": "execute_result"
    }
   ],
   "source": [
    "# sanity check: take a look at collection_ids\n",
    "\n",
    "collection_ids"
   ]
  },
  {
   "cell_type": "code",
   "execution_count": 6,
   "id": "7ce2484e",
   "metadata": {},
   "outputs": [],
   "source": [
    "# create an array of id values\n",
    "\n",
    "collection_ids_only = collection_ids['id'][ : ].values"
   ]
  },
  {
   "cell_type": "code",
   "execution_count": 7,
   "id": "d2b1fdf1",
   "metadata": {},
   "outputs": [
    {
     "data": {
      "text/plain": [
       "array([     10,      84,     119, ..., 1073243, 1073290, 1073293],\n",
       "      dtype=int64)"
      ]
     },
     "execution_count": 7,
     "metadata": {},
     "output_type": "execute_result"
    }
   ],
   "source": [
    "#sanity check: check the variable type to make sure it is an array\n",
    "\n",
    "collection_ids_only"
   ]
  },
  {
   "cell_type": "code",
   "execution_count": 8,
   "id": "19d67647",
   "metadata": {},
   "outputs": [
    {
     "data": {
      "text/plain": [
       "10"
      ]
     },
     "execution_count": 8,
     "metadata": {},
     "output_type": "execute_result"
    }
   ],
   "source": [
    "# sanity check: check min id of array\n",
    "\n",
    "ids_min = min(collection_ids_only)\n",
    "ids_min"
   ]
  },
  {
   "cell_type": "code",
   "execution_count": 9,
   "id": "cd878a2b",
   "metadata": {},
   "outputs": [
    {
     "data": {
      "text/plain": [
       "1073293"
      ]
     },
     "execution_count": 9,
     "metadata": {},
     "output_type": "execute_result"
    }
   ],
   "source": [
    "#sanity check: check max id of array\n",
    "\n",
    "ids_max = max(collection_ids_only)\n",
    "ids_max"
   ]
  },
  {
   "cell_type": "code",
   "execution_count": 13,
   "id": "12f45c47",
   "metadata": {},
   "outputs": [
    {
     "data": {
      "text/plain": [
       "5760"
      ]
     },
     "execution_count": 13,
     "metadata": {},
     "output_type": "execute_result"
    }
   ],
   "source": [
    "# find out length of collection_ids_only list so you know how many API calls to make in the loop below\n",
    "\n",
    "len(collection_ids_only)"
   ]
  },
  {
   "cell_type": "code",
   "execution_count": 14,
   "id": "9292492a",
   "metadata": {},
   "outputs": [],
   "source": [
    "# create an empty list where API calls will populate\n",
    "# DO NOT RE-RUN THIS CELL AFTER POPULATING THE LIST WITH API CALLS BELOW (unless you want to start over)\n",
    "\n",
    "teri_collection_list = []"
   ]
  },
  {
   "cell_type": "code",
   "execution_count": 50,
   "id": "f7f9f09a",
   "metadata": {},
   "outputs": [],
   "source": [
    "# loop to make API calls\n",
    "# increments of 500\n",
    "# returned error for list item 5139, collection id #1007775 does not exist\n",
    "# returned error for list item 5375, collection id #1040122 does not exist \n",
    "# returned error for list item 5376, collection id #1040388 does not exist\n",
    "# returned error for list item 5566, collection id #1063117 does not exist\n",
    "\n",
    "for i in collection_ids_only [5568 : 5760]:\n",
    "    collection = tmdb.Collections(i)\n",
    "    response = collection.info()\n",
    "    teri_collection_list.append(response)\n"
   ]
  },
  {
   "cell_type": "code",
   "execution_count": 51,
   "id": "c7b844c7",
   "metadata": {},
   "outputs": [
    {
     "data": {
      "text/plain": [
       "5757"
      ]
     },
     "execution_count": 51,
     "metadata": {},
     "output_type": "execute_result"
    }
   ],
   "source": [
    "# check list length (make sure it matches length of collection_ids_only)\n",
    "\n",
    "len(teri_collection_list)"
   ]
  },
  {
   "cell_type": "code",
   "execution_count": 52,
   "id": "f0f1888c",
   "metadata": {},
   "outputs": [
    {
     "data": {
      "text/plain": [
       "list"
      ]
     },
     "execution_count": 52,
     "metadata": {},
     "output_type": "execute_result"
    }
   ],
   "source": [
    "#sanity check: make sure it's a list\n",
    "\n",
    "type(teri_collection_list)"
   ]
  },
  {
   "cell_type": "code",
   "execution_count": 54,
   "id": "70cacee0",
   "metadata": {},
   "outputs": [],
   "source": [
    "# convert list to a dataframe\n",
    "\n",
    "collection_df = pd.DataFrame(columns=['id', 'name', 'overview', 'poster_path', 'backdrop_path', 'parts'])\n",
    "\n",
    "for i in range(len(teri_collection_list)):\n",
    "    normalized_df = pd.json_normalize(teri_collection_list[i])\n",
    "    collection_df = pd.concat([collection_df, normalized_df], ignore_index = True)"
   ]
  },
  {
   "cell_type": "code",
   "execution_count": 63,
   "id": "2055b4e9",
   "metadata": {},
   "outputs": [
    {
     "data": {
      "text/html": [
       "<div>\n",
       "<style scoped>\n",
       "    .dataframe tbody tr th:only-of-type {\n",
       "        vertical-align: middle;\n",
       "    }\n",
       "\n",
       "    .dataframe tbody tr th {\n",
       "        vertical-align: top;\n",
       "    }\n",
       "\n",
       "    .dataframe thead th {\n",
       "        text-align: right;\n",
       "    }\n",
       "</style>\n",
       "<table border=\"1\" class=\"dataframe\">\n",
       "  <thead>\n",
       "    <tr style=\"text-align: right;\">\n",
       "      <th></th>\n",
       "      <th>id</th>\n",
       "      <th>name</th>\n",
       "      <th>overview</th>\n",
       "      <th>poster_path</th>\n",
       "      <th>backdrop_path</th>\n",
       "      <th>parts</th>\n",
       "    </tr>\n",
       "  </thead>\n",
       "  <tbody>\n",
       "    <tr>\n",
       "      <th>0</th>\n",
       "      <td>10</td>\n",
       "      <td>Star Wars Collection</td>\n",
       "      <td>An epic space-opera theatrical film series, wh...</td>\n",
       "      <td>/gq5Wi7i4SF3lo4HHkJasDV95xI9.jpg</td>\n",
       "      <td>/d8duYyyC9J5T825Hg7grmaabfxQ.jpg</td>\n",
       "      <td>[{'adult': False, 'backdrop_path': '/aDYSnJAK0...</td>\n",
       "    </tr>\n",
       "    <tr>\n",
       "      <th>1</th>\n",
       "      <td>84</td>\n",
       "      <td>Indiana Jones Collection</td>\n",
       "      <td>Adventure film series created by George Lucas ...</td>\n",
       "      <td>/lpxDrACKJhbbGOlwVMNz5YCj6SI.jpg</td>\n",
       "      <td>/6kh59mZizZsttZPR0HAdXk6Ve2n.jpg</td>\n",
       "      <td>[{'adult': False, 'backdrop_path': '/c7Mjuip0j...</td>\n",
       "    </tr>\n",
       "  </tbody>\n",
       "</table>\n",
       "</div>"
      ],
      "text/plain": [
       "   id                      name  \\\n",
       "0  10      Star Wars Collection   \n",
       "1  84  Indiana Jones Collection   \n",
       "\n",
       "                                            overview  \\\n",
       "0  An epic space-opera theatrical film series, wh...   \n",
       "1  Adventure film series created by George Lucas ...   \n",
       "\n",
       "                        poster_path                     backdrop_path  \\\n",
       "0  /gq5Wi7i4SF3lo4HHkJasDV95xI9.jpg  /d8duYyyC9J5T825Hg7grmaabfxQ.jpg   \n",
       "1  /lpxDrACKJhbbGOlwVMNz5YCj6SI.jpg  /6kh59mZizZsttZPR0HAdXk6Ve2n.jpg   \n",
       "\n",
       "                                               parts  \n",
       "0  [{'adult': False, 'backdrop_path': '/aDYSnJAK0...  \n",
       "1  [{'adult': False, 'backdrop_path': '/c7Mjuip0j...  "
      ]
     },
     "execution_count": 63,
     "metadata": {},
     "output_type": "execute_result"
    }
   ],
   "source": [
    "# sanity check: look at the dataframe\n",
    "\n",
    "collection_df.head(2)"
   ]
  },
  {
   "cell_type": "code",
   "execution_count": 64,
   "id": "20ebe387",
   "metadata": {},
   "outputs": [],
   "source": [
    "# drop unneccesary columns\n",
    "\n",
    "collection_df.drop(columns = ['overview', 'poster_path', 'backdrop_path'], inplace = True)"
   ]
  },
  {
   "cell_type": "code",
   "execution_count": 65,
   "id": "12717b7e",
   "metadata": {},
   "outputs": [
    {
     "data": {
      "text/html": [
       "<div>\n",
       "<style scoped>\n",
       "    .dataframe tbody tr th:only-of-type {\n",
       "        vertical-align: middle;\n",
       "    }\n",
       "\n",
       "    .dataframe tbody tr th {\n",
       "        vertical-align: top;\n",
       "    }\n",
       "\n",
       "    .dataframe thead th {\n",
       "        text-align: right;\n",
       "    }\n",
       "</style>\n",
       "<table border=\"1\" class=\"dataframe\">\n",
       "  <thead>\n",
       "    <tr style=\"text-align: right;\">\n",
       "      <th></th>\n",
       "      <th>id</th>\n",
       "      <th>name</th>\n",
       "      <th>parts</th>\n",
       "    </tr>\n",
       "  </thead>\n",
       "  <tbody>\n",
       "    <tr>\n",
       "      <th>0</th>\n",
       "      <td>10</td>\n",
       "      <td>Star Wars Collection</td>\n",
       "      <td>[{'adult': False, 'backdrop_path': '/aDYSnJAK0...</td>\n",
       "    </tr>\n",
       "    <tr>\n",
       "      <th>1</th>\n",
       "      <td>84</td>\n",
       "      <td>Indiana Jones Collection</td>\n",
       "      <td>[{'adult': False, 'backdrop_path': '/c7Mjuip0j...</td>\n",
       "    </tr>\n",
       "  </tbody>\n",
       "</table>\n",
       "</div>"
      ],
      "text/plain": [
       "   id                      name  \\\n",
       "0  10      Star Wars Collection   \n",
       "1  84  Indiana Jones Collection   \n",
       "\n",
       "                                               parts  \n",
       "0  [{'adult': False, 'backdrop_path': '/aDYSnJAK0...  \n",
       "1  [{'adult': False, 'backdrop_path': '/c7Mjuip0j...  "
      ]
     },
     "execution_count": 65,
     "metadata": {},
     "output_type": "execute_result"
    }
   ],
   "source": [
    "# sanity check: the above three columns should be dropped\n",
    "\n",
    "collection_df.head(2)"
   ]
  },
  {
   "cell_type": "code",
   "execution_count": 66,
   "id": "4f98bd53",
   "metadata": {},
   "outputs": [],
   "source": [
    "# explode 'parts'\n",
    "\n",
    "collection_parts = collection_df.explode('parts', ignore_index = True)"
   ]
  },
  {
   "cell_type": "code",
   "execution_count": 67,
   "id": "a31ff222",
   "metadata": {},
   "outputs": [
    {
     "data": {
      "text/plain": [
       "23110"
      ]
     },
     "execution_count": 67,
     "metadata": {},
     "output_type": "execute_result"
    }
   ],
   "source": [
    "# check new length of df\n",
    "\n",
    "len(collection_parts)"
   ]
  },
  {
   "cell_type": "code",
   "execution_count": 68,
   "id": "1fad65b0",
   "metadata": {},
   "outputs": [
    {
     "data": {
      "text/html": [
       "<div>\n",
       "<style scoped>\n",
       "    .dataframe tbody tr th:only-of-type {\n",
       "        vertical-align: middle;\n",
       "    }\n",
       "\n",
       "    .dataframe tbody tr th {\n",
       "        vertical-align: top;\n",
       "    }\n",
       "\n",
       "    .dataframe thead th {\n",
       "        text-align: right;\n",
       "    }\n",
       "</style>\n",
       "<table border=\"1\" class=\"dataframe\">\n",
       "  <thead>\n",
       "    <tr style=\"text-align: right;\">\n",
       "      <th></th>\n",
       "      <th>id</th>\n",
       "      <th>name</th>\n",
       "      <th>parts</th>\n",
       "    </tr>\n",
       "  </thead>\n",
       "  <tbody>\n",
       "    <tr>\n",
       "      <th>0</th>\n",
       "      <td>10</td>\n",
       "      <td>Star Wars Collection</td>\n",
       "      <td>{'adult': False, 'backdrop_path': '/aDYSnJAK0B...</td>\n",
       "    </tr>\n",
       "    <tr>\n",
       "      <th>1</th>\n",
       "      <td>10</td>\n",
       "      <td>Star Wars Collection</td>\n",
       "      <td>{'adult': False, 'backdrop_path': '/dMZxEdrWIz...</td>\n",
       "    </tr>\n",
       "    <tr>\n",
       "      <th>2</th>\n",
       "      <td>10</td>\n",
       "      <td>Star Wars Collection</td>\n",
       "      <td>{'adult': False, 'backdrop_path': '/soJdiy91Mc...</td>\n",
       "    </tr>\n",
       "    <tr>\n",
       "      <th>3</th>\n",
       "      <td>10</td>\n",
       "      <td>Star Wars Collection</td>\n",
       "      <td>{'adult': False, 'backdrop_path': '/5fu7fzy4NZ...</td>\n",
       "    </tr>\n",
       "  </tbody>\n",
       "</table>\n",
       "</div>"
      ],
      "text/plain": [
       "   id                  name                                              parts\n",
       "0  10  Star Wars Collection  {'adult': False, 'backdrop_path': '/aDYSnJAK0B...\n",
       "1  10  Star Wars Collection  {'adult': False, 'backdrop_path': '/dMZxEdrWIz...\n",
       "2  10  Star Wars Collection  {'adult': False, 'backdrop_path': '/soJdiy91Mc...\n",
       "3  10  Star Wars Collection  {'adult': False, 'backdrop_path': '/5fu7fzy4NZ..."
      ]
     },
     "execution_count": 68,
     "metadata": {},
     "output_type": "execute_result"
    }
   ],
   "source": [
    "# sanity check: the first collection should be multiple rows now that 'parts' is exploded\n",
    "\n",
    "collection_parts.head(4)"
   ]
  },
  {
   "cell_type": "code",
   "execution_count": 72,
   "id": "b9454a56",
   "metadata": {},
   "outputs": [
    {
     "data": {
      "text/plain": [
       "id       0\n",
       "name     0\n",
       "parts    0\n",
       "dtype: int64"
      ]
     },
     "execution_count": 72,
     "metadata": {},
     "output_type": "execute_result"
    }
   ],
   "source": [
    "# check for NaN values (eg, collections without movie ids)\n",
    "\n",
    "collection_parts.isna().sum()"
   ]
  },
  {
   "cell_type": "code",
   "execution_count": 73,
   "id": "1d6b5ee0",
   "metadata": {},
   "outputs": [],
   "source": [
    "#remove NaN rows\n",
    "\n",
    "collection_parts.dropna(inplace=True)"
   ]
  },
  {
   "cell_type": "code",
   "execution_count": 75,
   "id": "829e1a5b",
   "metadata": {},
   "outputs": [
    {
     "data": {
      "text/plain": [
       "23082"
      ]
     },
     "execution_count": 75,
     "metadata": {},
     "output_type": "execute_result"
    }
   ],
   "source": [
    "# sanity check: df length should now be less if NaN were dropped\n",
    "\n",
    "len(collection_parts)"
   ]
  },
  {
   "cell_type": "code",
   "execution_count": 76,
   "id": "ee147f72",
   "metadata": {},
   "outputs": [
    {
     "data": {
      "text/plain": [
       "11"
      ]
     },
     "execution_count": 76,
     "metadata": {},
     "output_type": "execute_result"
    }
   ],
   "source": [
    "# sanity check: isolate location of movie id within 'parts'\n",
    "\n",
    "collection_parts['parts'][0]['id']"
   ]
  },
  {
   "cell_type": "code",
   "execution_count": 78,
   "id": "409c8a11",
   "metadata": {},
   "outputs": [],
   "source": [
    "# export collections df as csv\n",
    "\n",
    "collection_parts.to_csv('collection_parts_df_011423.csv')"
   ]
  },
  {
   "cell_type": "code",
   "execution_count": 79,
   "id": "c662acf2",
   "metadata": {},
   "outputs": [],
   "source": [
    "# now, we want to isolate JUST the movie ids into its own dataframe so we can use them to make movie ID API calls\n",
    "# create a new list to populate\n",
    "\n",
    "teri_valid_ids = []"
   ]
  },
  {
   "cell_type": "code",
   "execution_count": 80,
   "id": "d314fdbe",
   "metadata": {},
   "outputs": [],
   "source": [
    "# we create a loop to extract movie IDs from 'parts'\n",
    "for i in range(len(collection_parts['parts'])):\n",
    "    valid_parts = collection_parts.iloc[i, 2]['id']\n",
    "    teri_valid_ids.append(valid_parts)"
   ]
  },
  {
   "cell_type": "code",
   "execution_count": 81,
   "id": "e07e6c6a",
   "metadata": {},
   "outputs": [
    {
     "data": {
      "text/plain": [
       "23082"
      ]
     },
     "execution_count": 81,
     "metadata": {},
     "output_type": "execute_result"
    }
   ],
   "source": [
    "# sanity check: check the length of the new list\n",
    "\n",
    "len(teri_valid_ids)"
   ]
  },
  {
   "cell_type": "code",
   "execution_count": 82,
   "id": "a5a7a3cc",
   "metadata": {},
   "outputs": [],
   "source": [
    "# create df of valid IDs\n",
    "\n",
    "collection_valid_ids_df = pd.DataFrame(teri_valid_ids)"
   ]
  },
  {
   "cell_type": "code",
   "execution_count": 83,
   "id": "fff29324",
   "metadata": {},
   "outputs": [
    {
     "data": {
      "text/html": [
       "<div>\n",
       "<style scoped>\n",
       "    .dataframe tbody tr th:only-of-type {\n",
       "        vertical-align: middle;\n",
       "    }\n",
       "\n",
       "    .dataframe tbody tr th {\n",
       "        vertical-align: top;\n",
       "    }\n",
       "\n",
       "    .dataframe thead th {\n",
       "        text-align: right;\n",
       "    }\n",
       "</style>\n",
       "<table border=\"1\" class=\"dataframe\">\n",
       "  <thead>\n",
       "    <tr style=\"text-align: right;\">\n",
       "      <th></th>\n",
       "      <th>0</th>\n",
       "    </tr>\n",
       "  </thead>\n",
       "  <tbody>\n",
       "    <tr>\n",
       "      <th>0</th>\n",
       "      <td>11</td>\n",
       "    </tr>\n",
       "    <tr>\n",
       "      <th>1</th>\n",
       "      <td>1891</td>\n",
       "    </tr>\n",
       "    <tr>\n",
       "      <th>2</th>\n",
       "      <td>1892</td>\n",
       "    </tr>\n",
       "    <tr>\n",
       "      <th>3</th>\n",
       "      <td>1893</td>\n",
       "    </tr>\n",
       "    <tr>\n",
       "      <th>4</th>\n",
       "      <td>1894</td>\n",
       "    </tr>\n",
       "  </tbody>\n",
       "</table>\n",
       "</div>"
      ],
      "text/plain": [
       "      0\n",
       "0    11\n",
       "1  1891\n",
       "2  1892\n",
       "3  1893\n",
       "4  1894"
      ]
     },
     "execution_count": 83,
     "metadata": {},
     "output_type": "execute_result"
    }
   ],
   "source": [
    "# sanity check: look at the new dataframe. Should just be one column and one index.\n",
    "\n",
    "collection_valid_ids_df.head(5)"
   ]
  },
  {
   "cell_type": "code",
   "execution_count": 84,
   "id": "f7c2216b",
   "metadata": {},
   "outputs": [],
   "source": [
    "# export df of valid ids as csv\n",
    "\n",
    "collection_valid_ids_df.to_csv('collection_valid_ids_df_011423.csv')"
   ]
  },
  {
   "cell_type": "code",
   "execution_count": 86,
   "id": "b84b0dc6",
   "metadata": {},
   "outputs": [
    {
     "data": {
      "text/html": [
       "<div>\n",
       "<style scoped>\n",
       "    .dataframe tbody tr th:only-of-type {\n",
       "        vertical-align: middle;\n",
       "    }\n",
       "\n",
       "    .dataframe tbody tr th {\n",
       "        vertical-align: top;\n",
       "    }\n",
       "\n",
       "    .dataframe thead th {\n",
       "        text-align: right;\n",
       "    }\n",
       "</style>\n",
       "<table border=\"1\" class=\"dataframe\">\n",
       "  <thead>\n",
       "    <tr style=\"text-align: right;\">\n",
       "      <th></th>\n",
       "      <th>0</th>\n",
       "    </tr>\n",
       "  </thead>\n",
       "  <tbody>\n",
       "    <tr>\n",
       "      <th>0</th>\n",
       "      <td>11</td>\n",
       "    </tr>\n",
       "    <tr>\n",
       "      <th>1</th>\n",
       "      <td>1891</td>\n",
       "    </tr>\n",
       "    <tr>\n",
       "      <th>2</th>\n",
       "      <td>1892</td>\n",
       "    </tr>\n",
       "    <tr>\n",
       "      <th>3</th>\n",
       "      <td>1893</td>\n",
       "    </tr>\n",
       "    <tr>\n",
       "      <th>4</th>\n",
       "      <td>1894</td>\n",
       "    </tr>\n",
       "    <tr>\n",
       "      <th>...</th>\n",
       "      <td>...</td>\n",
       "    </tr>\n",
       "    <tr>\n",
       "      <th>23077</th>\n",
       "      <td>795245</td>\n",
       "    </tr>\n",
       "    <tr>\n",
       "      <th>23078</th>\n",
       "      <td>1056803</td>\n",
       "    </tr>\n",
       "    <tr>\n",
       "      <th>23079</th>\n",
       "      <td>572154</td>\n",
       "    </tr>\n",
       "    <tr>\n",
       "      <th>23080</th>\n",
       "      <td>283069</td>\n",
       "    </tr>\n",
       "    <tr>\n",
       "      <th>23081</th>\n",
       "      <td>99662</td>\n",
       "    </tr>\n",
       "  </tbody>\n",
       "</table>\n",
       "<p>23082 rows × 1 columns</p>\n",
       "</div>"
      ],
      "text/plain": [
       "             0\n",
       "0           11\n",
       "1         1891\n",
       "2         1892\n",
       "3         1893\n",
       "4         1894\n",
       "...        ...\n",
       "23077   795245\n",
       "23078  1056803\n",
       "23079   572154\n",
       "23080   283069\n",
       "23081    99662\n",
       "\n",
       "[23082 rows x 1 columns]"
      ]
     },
     "execution_count": 86,
     "metadata": {},
     "output_type": "execute_result"
    }
   ],
   "source": [
    "# sanity check: sometimes these csvs import an extra column when reloading as df. \n",
    "# import the df to see if the extra column exists\n",
    "# if it does, open the csv and remove the first ',' then save and re-import\n",
    "\n",
    "quick_peek = pd.read_csv('./collection_valid_ids_df_011423.csv')\n",
    "quick_peek"
   ]
  },
  {
   "cell_type": "code",
   "execution_count": 87,
   "id": "3dc3dd85",
   "metadata": {},
   "outputs": [],
   "source": [
    "# Now, you're ready to use this list of movie IDs to make your API calls!\n",
    "# First, make a new list\n",
    "\n",
    "valid_movie_list = []"
   ]
  },
  {
   "cell_type": "code",
   "execution_count": 137,
   "id": "5180bbe5",
   "metadata": {},
   "outputs": [],
   "source": [
    "# run your for loop through the valid IDs to populate your new movie list\n",
    "# increments of 1000\n",
    "# returned error for list item 867, movie id #19262 does not exist\n",
    "# returned error for list item 1137, movie id #50252 does not exist\n",
    "# returned error for list item 9868, movie id #15169 does not exist\n",
    "\n",
    "for i in teri_valid_ids[20000 : 23082]:\n",
    "    movies = tmdb.Movies(i)\n",
    "    response = movies.info()\n",
    "    valid_movie_list.append(response)"
   ]
  },
  {
   "cell_type": "code",
   "execution_count": 138,
   "id": "ad4e5cf1",
   "metadata": {},
   "outputs": [
    {
     "data": {
      "text/plain": [
       "23081"
      ]
     },
     "execution_count": 138,
     "metadata": {},
     "output_type": "execute_result"
    }
   ],
   "source": [
    "# check list length\n",
    "# final list length:\n",
    "\n",
    "len(valid_movie_list)"
   ]
  },
  {
   "cell_type": "code",
   "execution_count": 139,
   "id": "1590739e",
   "metadata": {},
   "outputs": [
    {
     "data": {
      "text/plain": [
       "list"
      ]
     },
     "execution_count": 139,
     "metadata": {},
     "output_type": "execute_result"
    }
   ],
   "source": [
    "# sanity check: type\n",
    "\n",
    "type(valid_movie_list)"
   ]
  },
  {
   "cell_type": "code",
   "execution_count": 140,
   "id": "02593335",
   "metadata": {},
   "outputs": [
    {
     "data": {
      "text/plain": [
       "{'adult': False,\n",
       " 'backdrop_path': '/aDYSnJAK0BTVeE8osOy22Kz3SXY.jpg',\n",
       " 'belongs_to_collection': {'id': 10,\n",
       "  'name': 'Star Wars Collection',\n",
       "  'poster_path': '/gq5Wi7i4SF3lo4HHkJasDV95xI9.jpg',\n",
       "  'backdrop_path': '/d8duYyyC9J5T825Hg7grmaabfxQ.jpg'},\n",
       " 'budget': 11000000,\n",
       " 'genres': [{'id': 12, 'name': 'Adventure'},\n",
       "  {'id': 28, 'name': 'Action'},\n",
       "  {'id': 878, 'name': 'Science Fiction'}],\n",
       " 'homepage': 'http://www.starwars.com/films/star-wars-episode-iv-a-new-hope',\n",
       " 'id': 11,\n",
       " 'imdb_id': 'tt0076759',\n",
       " 'original_language': 'en',\n",
       " 'original_title': 'Star Wars',\n",
       " 'overview': 'Princess Leia is captured and held hostage by the evil Imperial forces in their effort to take over the galactic Empire. Venturesome Luke Skywalker and dashing captain Han Solo team together with the loveable robot duo R2-D2 and C-3PO to rescue the beautiful princess and restore peace and justice in the Empire.',\n",
       " 'popularity': 85.36,\n",
       " 'poster_path': '/6FfCtAuVAW8XJjZ7eWeLibRLWTw.jpg',\n",
       " 'production_companies': [{'id': 1,\n",
       "   'logo_path': '/o86DbpburjxrqAzEDhXZcyE8pDb.png',\n",
       "   'name': 'Lucasfilm Ltd.',\n",
       "   'origin_country': 'US'},\n",
       "  {'id': 25,\n",
       "   'logo_path': '/qZCc1lty5FzX30aOCVRBLzaVmcp.png',\n",
       "   'name': '20th Century Fox',\n",
       "   'origin_country': 'US'}],\n",
       " 'production_countries': [{'iso_3166_1': 'US',\n",
       "   'name': 'United States of America'}],\n",
       " 'release_date': '1977-05-25',\n",
       " 'revenue': 775398007,\n",
       " 'runtime': 121,\n",
       " 'spoken_languages': [{'english_name': 'English',\n",
       "   'iso_639_1': 'en',\n",
       "   'name': 'English'}],\n",
       " 'status': 'Released',\n",
       " 'tagline': 'A long time ago in a galaxy far, far away...',\n",
       " 'title': 'Star Wars',\n",
       " 'video': False,\n",
       " 'vote_average': 8.206,\n",
       " 'vote_count': 18120}"
      ]
     },
     "execution_count": 140,
     "metadata": {},
     "output_type": "execute_result"
    }
   ],
   "source": [
    "# sanity check: return index 0\n",
    "\n",
    "valid_movie_list[0]"
   ]
  },
  {
   "cell_type": "code",
   "execution_count": 164,
   "id": "bb24e05f",
   "metadata": {},
   "outputs": [],
   "source": [
    "# assign new variables to the datafram you're about to create\n",
    "\n",
    "adult = 'adult'\n",
    "belongs_to_collection = 'belongs_to_collection'\n",
    "budget = 'budget'\n",
    "genres = 'genres'\n",
    "movie_id = 'id'\n",
    "original_language = 'original_language'\n",
    "original_title = 'original_title'\n",
    "popularity = 'popularity'\n",
    "release_date = 'release_date'\n",
    "revenue = 'revenue'\n",
    "runtime = 'runtime'\n",
    "status = 'status'\n",
    "title = 'title'\n",
    "vote_average = 'vote_average'\n",
    "vote_count = 'vote_count'"
   ]
  },
  {
   "cell_type": "code",
   "execution_count": 165,
   "id": "d328aaeb",
   "metadata": {},
   "outputs": [],
   "source": [
    "# create dataframe\n",
    "\n",
    "movie_collection_df = pd.DataFrame(columns=['adult', 'belongs_to_collection', 'budget', 'genres', 'id', 'original_language', 'original_title', 'popularity', 'release_date', 'revenue', 'runtime',\n",
    "                                           'status', 'title', 'vote_average', 'vote_count'])"
   ]
  },
  {
   "cell_type": "code",
   "execution_count": 166,
   "id": "86fbdafb",
   "metadata": {},
   "outputs": [
    {
     "data": {
      "text/html": [
       "<div>\n",
       "<style scoped>\n",
       "    .dataframe tbody tr th:only-of-type {\n",
       "        vertical-align: middle;\n",
       "    }\n",
       "\n",
       "    .dataframe tbody tr th {\n",
       "        vertical-align: top;\n",
       "    }\n",
       "\n",
       "    .dataframe thead th {\n",
       "        text-align: right;\n",
       "    }\n",
       "</style>\n",
       "<table border=\"1\" class=\"dataframe\">\n",
       "  <thead>\n",
       "    <tr style=\"text-align: right;\">\n",
       "      <th></th>\n",
       "      <th>adult</th>\n",
       "      <th>belongs_to_collection</th>\n",
       "      <th>budget</th>\n",
       "      <th>genres</th>\n",
       "      <th>id</th>\n",
       "      <th>original_language</th>\n",
       "      <th>original_title</th>\n",
       "      <th>popularity</th>\n",
       "      <th>release_date</th>\n",
       "      <th>revenue</th>\n",
       "      <th>runtime</th>\n",
       "      <th>status</th>\n",
       "      <th>title</th>\n",
       "      <th>vote_average</th>\n",
       "      <th>vote_count</th>\n",
       "    </tr>\n",
       "  </thead>\n",
       "  <tbody>\n",
       "  </tbody>\n",
       "</table>\n",
       "</div>"
      ],
      "text/plain": [
       "Empty DataFrame\n",
       "Columns: [adult, belongs_to_collection, budget, genres, id, original_language, original_title, popularity, release_date, revenue, runtime, status, title, vote_average, vote_count]\n",
       "Index: []"
      ]
     },
     "execution_count": 166,
     "metadata": {},
     "output_type": "execute_result"
    }
   ],
   "source": [
    "# sanity check: pull up the df. should be empty\n",
    "\n",
    "movie_collection_df"
   ]
  },
  {
   "cell_type": "code",
   "execution_count": 167,
   "id": "eee422e5",
   "metadata": {},
   "outputs": [],
   "source": [
    "# populate the dataframe with data from the movie list\n",
    "# this is returning an error when it runs into an entry that is missing information. it will take some time. \n",
    "\n",
    "for i in range(len(valid_movie_list)):\n",
    "    d = {adult : valid_movie_list[i]['adult'],\n",
    "         belongs_to_collection : valid_movie_list[i]['belongs_to_collection'],\n",
    "         budget : valid_movie_list[i]['budget'],\n",
    "         genres : valid_movie_list[i]['genres'],\n",
    "         movie_id : valid_movie_list[i]['id'],\n",
    "         original_language: valid_movie_list[i]['original_language'],\n",
    "         original_title : valid_movie_list[i]['original_title'], \n",
    "         popularity : valid_movie_list[i]['popularity'],\n",
    "         release_date : valid_movie_list[i]['release_date'],\n",
    "         revenue : valid_movie_list[i]['revenue'],\n",
    "         runtime : valid_movie_list[i]['runtime'],\n",
    "         status : valid_movie_list[i]['status'],\n",
    "         title : valid_movie_list[i]['title'],\n",
    "         vote_average : valid_movie_list[i]['vote_average'],\n",
    "         vote_count : valid_movie_list[i]['vote_count']}\n",
    "    \n",
    "    row = pd.DataFrame([d])\n",
    "    movie_collection_df = pd.concat([movie_collection_df, row], ignore_index = True)"
   ]
  },
  {
   "cell_type": "code",
   "execution_count": 168,
   "id": "586e07ac",
   "metadata": {},
   "outputs": [
    {
     "data": {
      "text/html": [
       "<div>\n",
       "<style scoped>\n",
       "    .dataframe tbody tr th:only-of-type {\n",
       "        vertical-align: middle;\n",
       "    }\n",
       "\n",
       "    .dataframe tbody tr th {\n",
       "        vertical-align: top;\n",
       "    }\n",
       "\n",
       "    .dataframe thead th {\n",
       "        text-align: right;\n",
       "    }\n",
       "</style>\n",
       "<table border=\"1\" class=\"dataframe\">\n",
       "  <thead>\n",
       "    <tr style=\"text-align: right;\">\n",
       "      <th></th>\n",
       "      <th>adult</th>\n",
       "      <th>belongs_to_collection</th>\n",
       "      <th>budget</th>\n",
       "      <th>genres</th>\n",
       "      <th>id</th>\n",
       "      <th>original_language</th>\n",
       "      <th>original_title</th>\n",
       "      <th>popularity</th>\n",
       "      <th>release_date</th>\n",
       "      <th>revenue</th>\n",
       "      <th>runtime</th>\n",
       "      <th>status</th>\n",
       "      <th>title</th>\n",
       "      <th>vote_average</th>\n",
       "      <th>vote_count</th>\n",
       "    </tr>\n",
       "  </thead>\n",
       "  <tbody>\n",
       "    <tr>\n",
       "      <th>0</th>\n",
       "      <td>False</td>\n",
       "      <td>{'id': 10, 'name': 'Star Wars Collection', 'po...</td>\n",
       "      <td>11000000</td>\n",
       "      <td>[{'id': 12, 'name': 'Adventure'}, {'id': 28, '...</td>\n",
       "      <td>11</td>\n",
       "      <td>en</td>\n",
       "      <td>Star Wars</td>\n",
       "      <td>85.360</td>\n",
       "      <td>1977-05-25</td>\n",
       "      <td>775398007</td>\n",
       "      <td>121</td>\n",
       "      <td>Released</td>\n",
       "      <td>Star Wars</td>\n",
       "      <td>8.206</td>\n",
       "      <td>18120</td>\n",
       "    </tr>\n",
       "    <tr>\n",
       "      <th>1</th>\n",
       "      <td>False</td>\n",
       "      <td>{'id': 10, 'name': 'Star Wars Collection', 'po...</td>\n",
       "      <td>18000000</td>\n",
       "      <td>[{'id': 12, 'name': 'Adventure'}, {'id': 28, '...</td>\n",
       "      <td>1891</td>\n",
       "      <td>en</td>\n",
       "      <td>The Empire Strikes Back</td>\n",
       "      <td>27.556</td>\n",
       "      <td>1980-05-20</td>\n",
       "      <td>538400000</td>\n",
       "      <td>124</td>\n",
       "      <td>Released</td>\n",
       "      <td>The Empire Strikes Back</td>\n",
       "      <td>8.393</td>\n",
       "      <td>14941</td>\n",
       "    </tr>\n",
       "    <tr>\n",
       "      <th>2</th>\n",
       "      <td>False</td>\n",
       "      <td>{'id': 10, 'name': 'Star Wars Collection', 'po...</td>\n",
       "      <td>32350000</td>\n",
       "      <td>[{'id': 12, 'name': 'Adventure'}, {'id': 28, '...</td>\n",
       "      <td>1892</td>\n",
       "      <td>en</td>\n",
       "      <td>Return of the Jedi</td>\n",
       "      <td>26.433</td>\n",
       "      <td>1983-05-25</td>\n",
       "      <td>572700000</td>\n",
       "      <td>135</td>\n",
       "      <td>Released</td>\n",
       "      <td>Return of the Jedi</td>\n",
       "      <td>7.886</td>\n",
       "      <td>13757</td>\n",
       "    </tr>\n",
       "    <tr>\n",
       "      <th>3</th>\n",
       "      <td>False</td>\n",
       "      <td>{'id': 10, 'name': 'Star Wars Collection', 'po...</td>\n",
       "      <td>115000000</td>\n",
       "      <td>[{'id': 12, 'name': 'Adventure'}, {'id': 28, '...</td>\n",
       "      <td>1893</td>\n",
       "      <td>en</td>\n",
       "      <td>Star Wars: Episode I - The Phantom Menace</td>\n",
       "      <td>31.762</td>\n",
       "      <td>1999-05-19</td>\n",
       "      <td>924317558</td>\n",
       "      <td>136</td>\n",
       "      <td>Released</td>\n",
       "      <td>Star Wars: Episode I - The Phantom Menace</td>\n",
       "      <td>6.518</td>\n",
       "      <td>12828</td>\n",
       "    </tr>\n",
       "  </tbody>\n",
       "</table>\n",
       "</div>"
      ],
      "text/plain": [
       "   adult                              belongs_to_collection     budget  \\\n",
       "0  False  {'id': 10, 'name': 'Star Wars Collection', 'po...   11000000   \n",
       "1  False  {'id': 10, 'name': 'Star Wars Collection', 'po...   18000000   \n",
       "2  False  {'id': 10, 'name': 'Star Wars Collection', 'po...   32350000   \n",
       "3  False  {'id': 10, 'name': 'Star Wars Collection', 'po...  115000000   \n",
       "\n",
       "                                              genres    id original_language  \\\n",
       "0  [{'id': 12, 'name': 'Adventure'}, {'id': 28, '...    11                en   \n",
       "1  [{'id': 12, 'name': 'Adventure'}, {'id': 28, '...  1891                en   \n",
       "2  [{'id': 12, 'name': 'Adventure'}, {'id': 28, '...  1892                en   \n",
       "3  [{'id': 12, 'name': 'Adventure'}, {'id': 28, '...  1893                en   \n",
       "\n",
       "                              original_title  popularity release_date  \\\n",
       "0                                  Star Wars      85.360   1977-05-25   \n",
       "1                    The Empire Strikes Back      27.556   1980-05-20   \n",
       "2                         Return of the Jedi      26.433   1983-05-25   \n",
       "3  Star Wars: Episode I - The Phantom Menace      31.762   1999-05-19   \n",
       "\n",
       "     revenue runtime    status                                      title  \\\n",
       "0  775398007     121  Released                                  Star Wars   \n",
       "1  538400000     124  Released                    The Empire Strikes Back   \n",
       "2  572700000     135  Released                         Return of the Jedi   \n",
       "3  924317558     136  Released  Star Wars: Episode I - The Phantom Menace   \n",
       "\n",
       "   vote_average vote_count  \n",
       "0         8.206      18120  \n",
       "1         8.393      14941  \n",
       "2         7.886      13757  \n",
       "3         6.518      12828  "
      ]
     },
     "execution_count": 168,
     "metadata": {},
     "output_type": "execute_result"
    }
   ],
   "source": [
    "# sanity check: check the first few rows of the dataframe\n",
    "\n",
    "movie_collection_df.head(4)"
   ]
  },
  {
   "cell_type": "code",
   "execution_count": 169,
   "id": "32b18f88",
   "metadata": {},
   "outputs": [],
   "source": [
    "# to avoid returning errors for NaN values, assign a fake name to missing entries in collection field\n",
    "\n",
    "movie_collection_df['collection_name'] = 'fake_name'"
   ]
  },
  {
   "cell_type": "code",
   "execution_count": 170,
   "id": "53290be3",
   "metadata": {},
   "outputs": [],
   "source": [
    "for i in range(len(movie_collection_df.belongs_to_collection)):\n",
    "    if movie_collection_df.iloc[i, 1] == None:\n",
    "        movie_collection_df.iloc[i, 1] = 'some_collection'\n",
    "    else:\n",
    "        movie_collection_df.iloc[i, -1] = movie_collection_df.iloc[i, 1]['name']\n",
    "        movie_collection_df.iloc[i, 1] = movie_collection_df.iloc[i, 1]['id']"
   ]
  },
  {
   "cell_type": "code",
   "execution_count": 171,
   "id": "d7ea7d8b",
   "metadata": {},
   "outputs": [],
   "source": [
    "# explode genres\n",
    "\n",
    "movie_collection_df = movie_collection_df.explode('genres', ignore_index = True)"
   ]
  },
  {
   "cell_type": "code",
   "execution_count": 172,
   "id": "324daccd",
   "metadata": {},
   "outputs": [
    {
     "data": {
      "text/html": [
       "<div>\n",
       "<style scoped>\n",
       "    .dataframe tbody tr th:only-of-type {\n",
       "        vertical-align: middle;\n",
       "    }\n",
       "\n",
       "    .dataframe tbody tr th {\n",
       "        vertical-align: top;\n",
       "    }\n",
       "\n",
       "    .dataframe thead th {\n",
       "        text-align: right;\n",
       "    }\n",
       "</style>\n",
       "<table border=\"1\" class=\"dataframe\">\n",
       "  <thead>\n",
       "    <tr style=\"text-align: right;\">\n",
       "      <th></th>\n",
       "      <th>adult</th>\n",
       "      <th>belongs_to_collection</th>\n",
       "      <th>budget</th>\n",
       "      <th>genres</th>\n",
       "      <th>id</th>\n",
       "      <th>original_language</th>\n",
       "      <th>original_title</th>\n",
       "      <th>popularity</th>\n",
       "      <th>release_date</th>\n",
       "      <th>revenue</th>\n",
       "      <th>runtime</th>\n",
       "      <th>status</th>\n",
       "      <th>title</th>\n",
       "      <th>vote_average</th>\n",
       "      <th>vote_count</th>\n",
       "      <th>collection_name</th>\n",
       "    </tr>\n",
       "  </thead>\n",
       "  <tbody>\n",
       "    <tr>\n",
       "      <th>0</th>\n",
       "      <td>False</td>\n",
       "      <td>10</td>\n",
       "      <td>11000000</td>\n",
       "      <td>{'id': 12, 'name': 'Adventure'}</td>\n",
       "      <td>11</td>\n",
       "      <td>en</td>\n",
       "      <td>Star Wars</td>\n",
       "      <td>85.360</td>\n",
       "      <td>1977-05-25</td>\n",
       "      <td>775398007</td>\n",
       "      <td>121</td>\n",
       "      <td>Released</td>\n",
       "      <td>Star Wars</td>\n",
       "      <td>8.206</td>\n",
       "      <td>18120</td>\n",
       "      <td>Star Wars Collection</td>\n",
       "    </tr>\n",
       "    <tr>\n",
       "      <th>1</th>\n",
       "      <td>False</td>\n",
       "      <td>10</td>\n",
       "      <td>11000000</td>\n",
       "      <td>{'id': 28, 'name': 'Action'}</td>\n",
       "      <td>11</td>\n",
       "      <td>en</td>\n",
       "      <td>Star Wars</td>\n",
       "      <td>85.360</td>\n",
       "      <td>1977-05-25</td>\n",
       "      <td>775398007</td>\n",
       "      <td>121</td>\n",
       "      <td>Released</td>\n",
       "      <td>Star Wars</td>\n",
       "      <td>8.206</td>\n",
       "      <td>18120</td>\n",
       "      <td>Star Wars Collection</td>\n",
       "    </tr>\n",
       "    <tr>\n",
       "      <th>2</th>\n",
       "      <td>False</td>\n",
       "      <td>10</td>\n",
       "      <td>11000000</td>\n",
       "      <td>{'id': 878, 'name': 'Science Fiction'}</td>\n",
       "      <td>11</td>\n",
       "      <td>en</td>\n",
       "      <td>Star Wars</td>\n",
       "      <td>85.360</td>\n",
       "      <td>1977-05-25</td>\n",
       "      <td>775398007</td>\n",
       "      <td>121</td>\n",
       "      <td>Released</td>\n",
       "      <td>Star Wars</td>\n",
       "      <td>8.206</td>\n",
       "      <td>18120</td>\n",
       "      <td>Star Wars Collection</td>\n",
       "    </tr>\n",
       "    <tr>\n",
       "      <th>3</th>\n",
       "      <td>False</td>\n",
       "      <td>10</td>\n",
       "      <td>18000000</td>\n",
       "      <td>{'id': 12, 'name': 'Adventure'}</td>\n",
       "      <td>1891</td>\n",
       "      <td>en</td>\n",
       "      <td>The Empire Strikes Back</td>\n",
       "      <td>27.556</td>\n",
       "      <td>1980-05-20</td>\n",
       "      <td>538400000</td>\n",
       "      <td>124</td>\n",
       "      <td>Released</td>\n",
       "      <td>The Empire Strikes Back</td>\n",
       "      <td>8.393</td>\n",
       "      <td>14941</td>\n",
       "      <td>Star Wars Collection</td>\n",
       "    </tr>\n",
       "    <tr>\n",
       "      <th>4</th>\n",
       "      <td>False</td>\n",
       "      <td>10</td>\n",
       "      <td>18000000</td>\n",
       "      <td>{'id': 28, 'name': 'Action'}</td>\n",
       "      <td>1891</td>\n",
       "      <td>en</td>\n",
       "      <td>The Empire Strikes Back</td>\n",
       "      <td>27.556</td>\n",
       "      <td>1980-05-20</td>\n",
       "      <td>538400000</td>\n",
       "      <td>124</td>\n",
       "      <td>Released</td>\n",
       "      <td>The Empire Strikes Back</td>\n",
       "      <td>8.393</td>\n",
       "      <td>14941</td>\n",
       "      <td>Star Wars Collection</td>\n",
       "    </tr>\n",
       "  </tbody>\n",
       "</table>\n",
       "</div>"
      ],
      "text/plain": [
       "   adult belongs_to_collection    budget  \\\n",
       "0  False                    10  11000000   \n",
       "1  False                    10  11000000   \n",
       "2  False                    10  11000000   \n",
       "3  False                    10  18000000   \n",
       "4  False                    10  18000000   \n",
       "\n",
       "                                   genres    id original_language  \\\n",
       "0         {'id': 12, 'name': 'Adventure'}    11                en   \n",
       "1            {'id': 28, 'name': 'Action'}    11                en   \n",
       "2  {'id': 878, 'name': 'Science Fiction'}    11                en   \n",
       "3         {'id': 12, 'name': 'Adventure'}  1891                en   \n",
       "4            {'id': 28, 'name': 'Action'}  1891                en   \n",
       "\n",
       "            original_title  popularity release_date    revenue runtime  \\\n",
       "0                Star Wars      85.360   1977-05-25  775398007     121   \n",
       "1                Star Wars      85.360   1977-05-25  775398007     121   \n",
       "2                Star Wars      85.360   1977-05-25  775398007     121   \n",
       "3  The Empire Strikes Back      27.556   1980-05-20  538400000     124   \n",
       "4  The Empire Strikes Back      27.556   1980-05-20  538400000     124   \n",
       "\n",
       "     status                    title  vote_average vote_count  \\\n",
       "0  Released                Star Wars         8.206      18120   \n",
       "1  Released                Star Wars         8.206      18120   \n",
       "2  Released                Star Wars         8.206      18120   \n",
       "3  Released  The Empire Strikes Back         8.393      14941   \n",
       "4  Released  The Empire Strikes Back         8.393      14941   \n",
       "\n",
       "        collection_name  \n",
       "0  Star Wars Collection  \n",
       "1  Star Wars Collection  \n",
       "2  Star Wars Collection  \n",
       "3  Star Wars Collection  \n",
       "4  Star Wars Collection  "
      ]
     },
     "execution_count": 172,
     "metadata": {},
     "output_type": "execute_result"
    }
   ],
   "source": [
    "# sanity check\n",
    "\n",
    "movie_collection_df.head(5)"
   ]
  },
  {
   "cell_type": "code",
   "execution_count": 173,
   "id": "d1d49ee6",
   "metadata": {},
   "outputs": [],
   "source": [
    "# assign missing genre values as no_genre\n",
    "\n",
    "movie_collection_df.genres = movie_collection_df.genres.fillna('no_genre')"
   ]
  },
  {
   "cell_type": "code",
   "execution_count": 174,
   "id": "026f1c3e",
   "metadata": {},
   "outputs": [],
   "source": [
    "# iterate through the genres list to extract name only\n",
    "\n",
    "for i in range(len(movie_collection_df.genres)):\n",
    "    if movie_collection_df.iloc[i, 3] == 'no_genre':\n",
    "        continue\n",
    "    else:\n",
    "        movie_collection_df.iloc[i, 3] = movie_collection_df.iloc[i, 3]['name']"
   ]
  },
  {
   "cell_type": "code",
   "execution_count": 175,
   "id": "0dd63663",
   "metadata": {},
   "outputs": [
    {
     "data": {
      "text/html": [
       "<div>\n",
       "<style scoped>\n",
       "    .dataframe tbody tr th:only-of-type {\n",
       "        vertical-align: middle;\n",
       "    }\n",
       "\n",
       "    .dataframe tbody tr th {\n",
       "        vertical-align: top;\n",
       "    }\n",
       "\n",
       "    .dataframe thead th {\n",
       "        text-align: right;\n",
       "    }\n",
       "</style>\n",
       "<table border=\"1\" class=\"dataframe\">\n",
       "  <thead>\n",
       "    <tr style=\"text-align: right;\">\n",
       "      <th></th>\n",
       "      <th>adult</th>\n",
       "      <th>belongs_to_collection</th>\n",
       "      <th>budget</th>\n",
       "      <th>genres</th>\n",
       "      <th>id</th>\n",
       "      <th>original_language</th>\n",
       "      <th>original_title</th>\n",
       "      <th>popularity</th>\n",
       "      <th>release_date</th>\n",
       "      <th>revenue</th>\n",
       "      <th>runtime</th>\n",
       "      <th>status</th>\n",
       "      <th>title</th>\n",
       "      <th>vote_average</th>\n",
       "      <th>vote_count</th>\n",
       "      <th>collection_name</th>\n",
       "    </tr>\n",
       "  </thead>\n",
       "  <tbody>\n",
       "    <tr>\n",
       "      <th>0</th>\n",
       "      <td>False</td>\n",
       "      <td>10</td>\n",
       "      <td>11000000</td>\n",
       "      <td>Adventure</td>\n",
       "      <td>11</td>\n",
       "      <td>en</td>\n",
       "      <td>Star Wars</td>\n",
       "      <td>85.360</td>\n",
       "      <td>1977-05-25</td>\n",
       "      <td>775398007</td>\n",
       "      <td>121</td>\n",
       "      <td>Released</td>\n",
       "      <td>Star Wars</td>\n",
       "      <td>8.206</td>\n",
       "      <td>18120</td>\n",
       "      <td>Star Wars Collection</td>\n",
       "    </tr>\n",
       "    <tr>\n",
       "      <th>1</th>\n",
       "      <td>False</td>\n",
       "      <td>10</td>\n",
       "      <td>11000000</td>\n",
       "      <td>Action</td>\n",
       "      <td>11</td>\n",
       "      <td>en</td>\n",
       "      <td>Star Wars</td>\n",
       "      <td>85.360</td>\n",
       "      <td>1977-05-25</td>\n",
       "      <td>775398007</td>\n",
       "      <td>121</td>\n",
       "      <td>Released</td>\n",
       "      <td>Star Wars</td>\n",
       "      <td>8.206</td>\n",
       "      <td>18120</td>\n",
       "      <td>Star Wars Collection</td>\n",
       "    </tr>\n",
       "    <tr>\n",
       "      <th>2</th>\n",
       "      <td>False</td>\n",
       "      <td>10</td>\n",
       "      <td>11000000</td>\n",
       "      <td>Science Fiction</td>\n",
       "      <td>11</td>\n",
       "      <td>en</td>\n",
       "      <td>Star Wars</td>\n",
       "      <td>85.360</td>\n",
       "      <td>1977-05-25</td>\n",
       "      <td>775398007</td>\n",
       "      <td>121</td>\n",
       "      <td>Released</td>\n",
       "      <td>Star Wars</td>\n",
       "      <td>8.206</td>\n",
       "      <td>18120</td>\n",
       "      <td>Star Wars Collection</td>\n",
       "    </tr>\n",
       "    <tr>\n",
       "      <th>3</th>\n",
       "      <td>False</td>\n",
       "      <td>10</td>\n",
       "      <td>18000000</td>\n",
       "      <td>Adventure</td>\n",
       "      <td>1891</td>\n",
       "      <td>en</td>\n",
       "      <td>The Empire Strikes Back</td>\n",
       "      <td>27.556</td>\n",
       "      <td>1980-05-20</td>\n",
       "      <td>538400000</td>\n",
       "      <td>124</td>\n",
       "      <td>Released</td>\n",
       "      <td>The Empire Strikes Back</td>\n",
       "      <td>8.393</td>\n",
       "      <td>14941</td>\n",
       "      <td>Star Wars Collection</td>\n",
       "    </tr>\n",
       "    <tr>\n",
       "      <th>4</th>\n",
       "      <td>False</td>\n",
       "      <td>10</td>\n",
       "      <td>18000000</td>\n",
       "      <td>Action</td>\n",
       "      <td>1891</td>\n",
       "      <td>en</td>\n",
       "      <td>The Empire Strikes Back</td>\n",
       "      <td>27.556</td>\n",
       "      <td>1980-05-20</td>\n",
       "      <td>538400000</td>\n",
       "      <td>124</td>\n",
       "      <td>Released</td>\n",
       "      <td>The Empire Strikes Back</td>\n",
       "      <td>8.393</td>\n",
       "      <td>14941</td>\n",
       "      <td>Star Wars Collection</td>\n",
       "    </tr>\n",
       "  </tbody>\n",
       "</table>\n",
       "</div>"
      ],
      "text/plain": [
       "   adult belongs_to_collection    budget           genres    id  \\\n",
       "0  False                    10  11000000        Adventure    11   \n",
       "1  False                    10  11000000           Action    11   \n",
       "2  False                    10  11000000  Science Fiction    11   \n",
       "3  False                    10  18000000        Adventure  1891   \n",
       "4  False                    10  18000000           Action  1891   \n",
       "\n",
       "  original_language           original_title  popularity release_date  \\\n",
       "0                en                Star Wars      85.360   1977-05-25   \n",
       "1                en                Star Wars      85.360   1977-05-25   \n",
       "2                en                Star Wars      85.360   1977-05-25   \n",
       "3                en  The Empire Strikes Back      27.556   1980-05-20   \n",
       "4                en  The Empire Strikes Back      27.556   1980-05-20   \n",
       "\n",
       "     revenue runtime    status                    title  vote_average  \\\n",
       "0  775398007     121  Released                Star Wars         8.206   \n",
       "1  775398007     121  Released                Star Wars         8.206   \n",
       "2  775398007     121  Released                Star Wars         8.206   \n",
       "3  538400000     124  Released  The Empire Strikes Back         8.393   \n",
       "4  538400000     124  Released  The Empire Strikes Back         8.393   \n",
       "\n",
       "  vote_count       collection_name  \n",
       "0      18120  Star Wars Collection  \n",
       "1      18120  Star Wars Collection  \n",
       "2      18120  Star Wars Collection  \n",
       "3      14941  Star Wars Collection  \n",
       "4      14941  Star Wars Collection  "
      ]
     },
     "execution_count": 175,
     "metadata": {},
     "output_type": "execute_result"
    }
   ],
   "source": [
    "# sanity check\n",
    "\n",
    "movie_collection_df.head(5)"
   ]
  },
  {
   "cell_type": "code",
   "execution_count": 176,
   "id": "ccce282d",
   "metadata": {},
   "outputs": [],
   "source": [
    "# export df as csv\n",
    "movie_collection_df.to_csv('movie_collection_df_011423_final.csv')"
   ]
  },
  {
   "cell_type": "code",
   "execution_count": 179,
   "id": "800b4245",
   "metadata": {},
   "outputs": [],
   "source": [
    "# if extra unnamed column is included, remove \",\" in csv file directly\n",
    "# or, https://pandas.pydata.org/docs/reference/api/pandas.DataFrame.drop.html\n",
    "\n",
    "quick_look = pd.read_csv('./movie_collection_df_011423_final.csv')"
   ]
  },
  {
   "cell_type": "code",
   "execution_count": 189,
   "id": "ade9d06d",
   "metadata": {},
   "outputs": [
    {
     "name": "stdout",
     "output_type": "stream",
     "text": [
      "<class 'pandas.core.frame.DataFrame'>\n",
      "Int64Index: 45211 entries, 0 to 45210\n",
      "Data columns (total 16 columns):\n",
      " #   Column                 Non-Null Count  Dtype  \n",
      "---  ------                 --------------  -----  \n",
      " 0   adult                  45211 non-null  bool   \n",
      " 1   belongs_to_collection  45211 non-null  object \n",
      " 2   budget                 45211 non-null  int64  \n",
      " 3   genres                 45211 non-null  object \n",
      " 4   id                     45211 non-null  int64  \n",
      " 5   original_language      45211 non-null  object \n",
      " 6   original_title         45211 non-null  object \n",
      " 7   popularity             45211 non-null  float64\n",
      " 8   release_date           44613 non-null  object \n",
      " 9   revenue                45211 non-null  int64  \n",
      " 10  runtime                45211 non-null  int64  \n",
      " 11  status                 45211 non-null  object \n",
      " 12  title                  45211 non-null  object \n",
      " 13  vote_average           45211 non-null  float64\n",
      " 14  vote_count             45211 non-null  int64  \n",
      " 15  collection_name        45211 non-null  object \n",
      "dtypes: bool(1), float64(2), int64(5), object(8)\n",
      "memory usage: 5.6+ MB\n"
     ]
    }
   ],
   "source": [
    "quick_look.info()"
   ]
  },
  {
   "cell_type": "code",
   "execution_count": 181,
   "id": "edaeed54",
   "metadata": {},
   "outputs": [],
   "source": [
    "# CONGRATS!!!!\n",
    "# data is ready for cleaning and analysis!"
   ]
  },
  {
   "cell_type": "code",
   "execution_count": 184,
   "id": "2096c33f",
   "metadata": {},
   "outputs": [],
   "source": [
    "# extra step: save df as pickle\n",
    "\n",
    "movie_collection_df.to_pickle('movie_data_011423.pkl')"
   ]
  },
  {
   "cell_type": "code",
   "execution_count": 185,
   "id": "c62ba43d",
   "metadata": {},
   "outputs": [],
   "source": [
    "test_pickle = pd.read_pickle('movie_data_011423.pkl')"
   ]
  },
  {
   "cell_type": "code",
   "execution_count": 186,
   "id": "1f896d1a",
   "metadata": {},
   "outputs": [
    {
     "data": {
      "text/html": [
       "<div>\n",
       "<style scoped>\n",
       "    .dataframe tbody tr th:only-of-type {\n",
       "        vertical-align: middle;\n",
       "    }\n",
       "\n",
       "    .dataframe tbody tr th {\n",
       "        vertical-align: top;\n",
       "    }\n",
       "\n",
       "    .dataframe thead th {\n",
       "        text-align: right;\n",
       "    }\n",
       "</style>\n",
       "<table border=\"1\" class=\"dataframe\">\n",
       "  <thead>\n",
       "    <tr style=\"text-align: right;\">\n",
       "      <th></th>\n",
       "      <th>adult</th>\n",
       "      <th>belongs_to_collection</th>\n",
       "      <th>budget</th>\n",
       "      <th>genres</th>\n",
       "      <th>id</th>\n",
       "      <th>original_language</th>\n",
       "      <th>original_title</th>\n",
       "      <th>popularity</th>\n",
       "      <th>release_date</th>\n",
       "      <th>revenue</th>\n",
       "      <th>runtime</th>\n",
       "      <th>status</th>\n",
       "      <th>title</th>\n",
       "      <th>vote_average</th>\n",
       "      <th>vote_count</th>\n",
       "      <th>collection_name</th>\n",
       "    </tr>\n",
       "  </thead>\n",
       "  <tbody>\n",
       "    <tr>\n",
       "      <th>0</th>\n",
       "      <td>False</td>\n",
       "      <td>10</td>\n",
       "      <td>11000000</td>\n",
       "      <td>Adventure</td>\n",
       "      <td>11</td>\n",
       "      <td>en</td>\n",
       "      <td>Star Wars</td>\n",
       "      <td>85.360</td>\n",
       "      <td>1977-05-25</td>\n",
       "      <td>775398007</td>\n",
       "      <td>121</td>\n",
       "      <td>Released</td>\n",
       "      <td>Star Wars</td>\n",
       "      <td>8.206</td>\n",
       "      <td>18120</td>\n",
       "      <td>Star Wars Collection</td>\n",
       "    </tr>\n",
       "    <tr>\n",
       "      <th>1</th>\n",
       "      <td>False</td>\n",
       "      <td>10</td>\n",
       "      <td>11000000</td>\n",
       "      <td>Action</td>\n",
       "      <td>11</td>\n",
       "      <td>en</td>\n",
       "      <td>Star Wars</td>\n",
       "      <td>85.360</td>\n",
       "      <td>1977-05-25</td>\n",
       "      <td>775398007</td>\n",
       "      <td>121</td>\n",
       "      <td>Released</td>\n",
       "      <td>Star Wars</td>\n",
       "      <td>8.206</td>\n",
       "      <td>18120</td>\n",
       "      <td>Star Wars Collection</td>\n",
       "    </tr>\n",
       "    <tr>\n",
       "      <th>2</th>\n",
       "      <td>False</td>\n",
       "      <td>10</td>\n",
       "      <td>11000000</td>\n",
       "      <td>Science Fiction</td>\n",
       "      <td>11</td>\n",
       "      <td>en</td>\n",
       "      <td>Star Wars</td>\n",
       "      <td>85.360</td>\n",
       "      <td>1977-05-25</td>\n",
       "      <td>775398007</td>\n",
       "      <td>121</td>\n",
       "      <td>Released</td>\n",
       "      <td>Star Wars</td>\n",
       "      <td>8.206</td>\n",
       "      <td>18120</td>\n",
       "      <td>Star Wars Collection</td>\n",
       "    </tr>\n",
       "    <tr>\n",
       "      <th>3</th>\n",
       "      <td>False</td>\n",
       "      <td>10</td>\n",
       "      <td>18000000</td>\n",
       "      <td>Adventure</td>\n",
       "      <td>1891</td>\n",
       "      <td>en</td>\n",
       "      <td>The Empire Strikes Back</td>\n",
       "      <td>27.556</td>\n",
       "      <td>1980-05-20</td>\n",
       "      <td>538400000</td>\n",
       "      <td>124</td>\n",
       "      <td>Released</td>\n",
       "      <td>The Empire Strikes Back</td>\n",
       "      <td>8.393</td>\n",
       "      <td>14941</td>\n",
       "      <td>Star Wars Collection</td>\n",
       "    </tr>\n",
       "    <tr>\n",
       "      <th>4</th>\n",
       "      <td>False</td>\n",
       "      <td>10</td>\n",
       "      <td>18000000</td>\n",
       "      <td>Action</td>\n",
       "      <td>1891</td>\n",
       "      <td>en</td>\n",
       "      <td>The Empire Strikes Back</td>\n",
       "      <td>27.556</td>\n",
       "      <td>1980-05-20</td>\n",
       "      <td>538400000</td>\n",
       "      <td>124</td>\n",
       "      <td>Released</td>\n",
       "      <td>The Empire Strikes Back</td>\n",
       "      <td>8.393</td>\n",
       "      <td>14941</td>\n",
       "      <td>Star Wars Collection</td>\n",
       "    </tr>\n",
       "    <tr>\n",
       "      <th>...</th>\n",
       "      <td>...</td>\n",
       "      <td>...</td>\n",
       "      <td>...</td>\n",
       "      <td>...</td>\n",
       "      <td>...</td>\n",
       "      <td>...</td>\n",
       "      <td>...</td>\n",
       "      <td>...</td>\n",
       "      <td>...</td>\n",
       "      <td>...</td>\n",
       "      <td>...</td>\n",
       "      <td>...</td>\n",
       "      <td>...</td>\n",
       "      <td>...</td>\n",
       "      <td>...</td>\n",
       "      <td>...</td>\n",
       "    </tr>\n",
       "    <tr>\n",
       "      <th>45206</th>\n",
       "      <td>False</td>\n",
       "      <td>1073293</td>\n",
       "      <td>0</td>\n",
       "      <td>Fantasy</td>\n",
       "      <td>283069</td>\n",
       "      <td>ja</td>\n",
       "      <td>DAICONⅢ オープニングアニメ</td>\n",
       "      <td>2.422</td>\n",
       "      <td>1981-08-22</td>\n",
       "      <td>0</td>\n",
       "      <td>5</td>\n",
       "      <td>Released</td>\n",
       "      <td>DAICON III Opening Animation</td>\n",
       "      <td>7.100</td>\n",
       "      <td>9</td>\n",
       "      <td>Daicon Opening Animation Collection</td>\n",
       "    </tr>\n",
       "    <tr>\n",
       "      <th>45207</th>\n",
       "      <td>False</td>\n",
       "      <td>1073293</td>\n",
       "      <td>0</td>\n",
       "      <td>Animation</td>\n",
       "      <td>99662</td>\n",
       "      <td>ja</td>\n",
       "      <td>DAICONⅣ オープニングアニメ</td>\n",
       "      <td>2.948</td>\n",
       "      <td>1983-08-20</td>\n",
       "      <td>0</td>\n",
       "      <td>6</td>\n",
       "      <td>Released</td>\n",
       "      <td>DAICON IV Opening Animation</td>\n",
       "      <td>7.300</td>\n",
       "      <td>20</td>\n",
       "      <td>Daicon Opening Animation Collection</td>\n",
       "    </tr>\n",
       "    <tr>\n",
       "      <th>45208</th>\n",
       "      <td>False</td>\n",
       "      <td>1073293</td>\n",
       "      <td>0</td>\n",
       "      <td>Action</td>\n",
       "      <td>99662</td>\n",
       "      <td>ja</td>\n",
       "      <td>DAICONⅣ オープニングアニメ</td>\n",
       "      <td>2.948</td>\n",
       "      <td>1983-08-20</td>\n",
       "      <td>0</td>\n",
       "      <td>6</td>\n",
       "      <td>Released</td>\n",
       "      <td>DAICON IV Opening Animation</td>\n",
       "      <td>7.300</td>\n",
       "      <td>20</td>\n",
       "      <td>Daicon Opening Animation Collection</td>\n",
       "    </tr>\n",
       "    <tr>\n",
       "      <th>45209</th>\n",
       "      <td>False</td>\n",
       "      <td>1073293</td>\n",
       "      <td>0</td>\n",
       "      <td>Science Fiction</td>\n",
       "      <td>99662</td>\n",
       "      <td>ja</td>\n",
       "      <td>DAICONⅣ オープニングアニメ</td>\n",
       "      <td>2.948</td>\n",
       "      <td>1983-08-20</td>\n",
       "      <td>0</td>\n",
       "      <td>6</td>\n",
       "      <td>Released</td>\n",
       "      <td>DAICON IV Opening Animation</td>\n",
       "      <td>7.300</td>\n",
       "      <td>20</td>\n",
       "      <td>Daicon Opening Animation Collection</td>\n",
       "    </tr>\n",
       "    <tr>\n",
       "      <th>45210</th>\n",
       "      <td>False</td>\n",
       "      <td>1073293</td>\n",
       "      <td>0</td>\n",
       "      <td>Fantasy</td>\n",
       "      <td>99662</td>\n",
       "      <td>ja</td>\n",
       "      <td>DAICONⅣ オープニングアニメ</td>\n",
       "      <td>2.948</td>\n",
       "      <td>1983-08-20</td>\n",
       "      <td>0</td>\n",
       "      <td>6</td>\n",
       "      <td>Released</td>\n",
       "      <td>DAICON IV Opening Animation</td>\n",
       "      <td>7.300</td>\n",
       "      <td>20</td>\n",
       "      <td>Daicon Opening Animation Collection</td>\n",
       "    </tr>\n",
       "  </tbody>\n",
       "</table>\n",
       "<p>45211 rows × 16 columns</p>\n",
       "</div>"
      ],
      "text/plain": [
       "       adult belongs_to_collection    budget           genres      id  \\\n",
       "0      False                    10  11000000        Adventure      11   \n",
       "1      False                    10  11000000           Action      11   \n",
       "2      False                    10  11000000  Science Fiction      11   \n",
       "3      False                    10  18000000        Adventure    1891   \n",
       "4      False                    10  18000000           Action    1891   \n",
       "...      ...                   ...       ...              ...     ...   \n",
       "45206  False               1073293         0          Fantasy  283069   \n",
       "45207  False               1073293         0        Animation   99662   \n",
       "45208  False               1073293         0           Action   99662   \n",
       "45209  False               1073293         0  Science Fiction   99662   \n",
       "45210  False               1073293         0          Fantasy   99662   \n",
       "\n",
       "      original_language           original_title  popularity release_date  \\\n",
       "0                    en                Star Wars      85.360   1977-05-25   \n",
       "1                    en                Star Wars      85.360   1977-05-25   \n",
       "2                    en                Star Wars      85.360   1977-05-25   \n",
       "3                    en  The Empire Strikes Back      27.556   1980-05-20   \n",
       "4                    en  The Empire Strikes Back      27.556   1980-05-20   \n",
       "...                 ...                      ...         ...          ...   \n",
       "45206                ja        DAICONⅢ オープニングアニメ       2.422   1981-08-22   \n",
       "45207                ja        DAICONⅣ オープニングアニメ       2.948   1983-08-20   \n",
       "45208                ja        DAICONⅣ オープニングアニメ       2.948   1983-08-20   \n",
       "45209                ja        DAICONⅣ オープニングアニメ       2.948   1983-08-20   \n",
       "45210                ja        DAICONⅣ オープニングアニメ       2.948   1983-08-20   \n",
       "\n",
       "         revenue runtime    status                         title  \\\n",
       "0      775398007     121  Released                     Star Wars   \n",
       "1      775398007     121  Released                     Star Wars   \n",
       "2      775398007     121  Released                     Star Wars   \n",
       "3      538400000     124  Released       The Empire Strikes Back   \n",
       "4      538400000     124  Released       The Empire Strikes Back   \n",
       "...          ...     ...       ...                           ...   \n",
       "45206          0       5  Released  DAICON III Opening Animation   \n",
       "45207          0       6  Released   DAICON IV Opening Animation   \n",
       "45208          0       6  Released   DAICON IV Opening Animation   \n",
       "45209          0       6  Released   DAICON IV Opening Animation   \n",
       "45210          0       6  Released   DAICON IV Opening Animation   \n",
       "\n",
       "       vote_average vote_count                      collection_name  \n",
       "0             8.206      18120                 Star Wars Collection  \n",
       "1             8.206      18120                 Star Wars Collection  \n",
       "2             8.206      18120                 Star Wars Collection  \n",
       "3             8.393      14941                 Star Wars Collection  \n",
       "4             8.393      14941                 Star Wars Collection  \n",
       "...             ...        ...                                  ...  \n",
       "45206         7.100          9  Daicon Opening Animation Collection  \n",
       "45207         7.300         20  Daicon Opening Animation Collection  \n",
       "45208         7.300         20  Daicon Opening Animation Collection  \n",
       "45209         7.300         20  Daicon Opening Animation Collection  \n",
       "45210         7.300         20  Daicon Opening Animation Collection  \n",
       "\n",
       "[45211 rows x 16 columns]"
      ]
     },
     "execution_count": 186,
     "metadata": {},
     "output_type": "execute_result"
    }
   ],
   "source": [
    "test_pickle"
   ]
  },
  {
   "cell_type": "code",
   "execution_count": 187,
   "id": "742b3447",
   "metadata": {},
   "outputs": [
    {
     "name": "stdout",
     "output_type": "stream",
     "text": [
      "<class 'pandas.core.frame.DataFrame'>\n",
      "RangeIndex: 45211 entries, 0 to 45210\n",
      "Data columns (total 16 columns):\n",
      " #   Column                 Non-Null Count  Dtype  \n",
      "---  ------                 --------------  -----  \n",
      " 0   adult                  45211 non-null  object \n",
      " 1   belongs_to_collection  45211 non-null  object \n",
      " 2   budget                 45211 non-null  object \n",
      " 3   genres                 45211 non-null  object \n",
      " 4   id                     45211 non-null  object \n",
      " 5   original_language      45211 non-null  object \n",
      " 6   original_title         45211 non-null  object \n",
      " 7   popularity             45211 non-null  float64\n",
      " 8   release_date           45211 non-null  object \n",
      " 9   revenue                45211 non-null  object \n",
      " 10  runtime                45211 non-null  object \n",
      " 11  status                 45211 non-null  object \n",
      " 12  title                  45211 non-null  object \n",
      " 13  vote_average           45211 non-null  float64\n",
      " 14  vote_count             45211 non-null  object \n",
      " 15  collection_name        45211 non-null  object \n",
      "dtypes: float64(2), object(14)\n",
      "memory usage: 5.5+ MB\n"
     ]
    }
   ],
   "source": [
    "test_pickle.info()"
   ]
  },
  {
   "cell_type": "code",
   "execution_count": null,
   "id": "2f7b725d",
   "metadata": {},
   "outputs": [],
   "source": []
  }
 ],
 "metadata": {
  "kernelspec": {
   "display_name": "Python 3 (ipykernel)",
   "language": "python",
   "name": "python3"
  },
  "language_info": {
   "codemirror_mode": {
    "name": "ipython",
    "version": 3
   },
   "file_extension": ".py",
   "mimetype": "text/x-python",
   "name": "python",
   "nbconvert_exporter": "python",
   "pygments_lexer": "ipython3",
   "version": "3.9.13"
  }
 },
 "nbformat": 4,
 "nbformat_minor": 5
}
